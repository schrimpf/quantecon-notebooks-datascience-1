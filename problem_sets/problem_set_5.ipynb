{
 "cells": [
  {
   "cell_type": "markdown",
   "metadata": {},
   "source": [
    "# Problem Set 5\n",
    "\n",
    "See [Optimization](../scientific/optimization.ipynb), [Introduction](../pandas/intro.ipynb), and [Basic Functionality](../pandas/basics.ipynb)"
   ]
  },
  {
   "cell_type": "code",
   "execution_count": 34,
   "metadata": {
    "hide-output": false
   },
   "outputs": [],
   "source": [
    "import pandas as pd\n",
    "import numpy as np\n",
    "\n",
    "%matplotlib inline\n",
    "# activate plot theme\n",
    "import qeds\n",
    "qeds.themes.mpl_style();"
   ]
  },
  {
   "cell_type": "markdown",
   "metadata": {},
   "source": [
    "## Setup for Question 1-5\n",
    "\n",
    "Load data from the [Basic Functionality](../pandas/basics.ipynb) lecture."
   ]
  },
  {
   "cell_type": "code",
   "execution_count": 35,
   "metadata": {
    "hide-output": false
   },
   "outputs": [],
   "source": [
    "url = \"https://datascience.quantecon.org/assets/data/state_unemployment.csv\"\n",
    "unemp_raw = pd.read_csv(url, parse_dates=[\"Date\"])"
   ]
  },
  {
   "cell_type": "markdown",
   "metadata": {},
   "source": [
    "And do the same manipulation as in the pandas basics lecture."
   ]
  },
  {
   "cell_type": "code",
   "execution_count": 36,
   "metadata": {
    "hide-output": false
   },
   "outputs": [],
   "source": [
    "states = [\n",
    "    \"Arizona\", \"California\", \"Florida\", \"Illinois\",\n",
    "    \"Michigan\", \"New York\", \"Texas\"\n",
    "]\n",
    "\n",
    "unemp = (\n",
    "    unemp_raw\n",
    "    .reset_index()\n",
    "    .pivot_table(index=\"Date\", columns=\"state\", values=\"UnemploymentRate\")\n",
    "    [states]\n",
    ")"
   ]
  },
  {
   "cell_type": "markdown",
   "metadata": {},
   "source": [
    "## Question 1\n",
    "\n",
    "At each date, what is the minimum unemployment rate across all states\n",
    "in our sample?"
   ]
  },
  {
   "cell_type": "code",
   "execution_count": 37,
   "metadata": {
    "hide-output": false
   },
   "outputs": [
    {
     "data": {
      "text/plain": [
       "Date\n",
       "2000-01-01    3.3\n",
       "2000-02-01    3.2\n",
       "2000-03-01    3.2\n",
       "2000-04-01    3.3\n",
       "2000-05-01    3.5\n",
       "             ... \n",
       "2017-08-01    4.0\n",
       "2017-09-01    3.9\n",
       "2017-10-01    3.9\n",
       "2017-11-01    3.9\n",
       "2017-12-01    3.9\n",
       "Length: 216, dtype: float64"
      ]
     },
     "execution_count": 37,
     "metadata": {},
     "output_type": "execute_result"
    }
   ],
   "source": [
    "# Your code here\n",
    "unemp.min(axis=1)"
   ]
  },
  {
   "cell_type": "markdown",
   "metadata": {},
   "source": [
    "What was the median unemployment rate in each state?"
   ]
  },
  {
   "cell_type": "code",
   "execution_count": 38,
   "metadata": {
    "hide-output": false
   },
   "outputs": [
    {
     "data": {
      "text/plain": [
       "state\n",
       "Arizona       5.80\n",
       "California    6.50\n",
       "Florida       5.35\n",
       "Illinois      6.15\n",
       "Michigan      7.00\n",
       "New York      5.70\n",
       "Texas         5.40\n",
       "dtype: float64"
      ]
     },
     "execution_count": 38,
     "metadata": {},
     "output_type": "execute_result"
    }
   ],
   "source": [
    "# Your code here\n",
    "unemp.median()"
   ]
  },
  {
   "cell_type": "markdown",
   "metadata": {},
   "source": [
    "What was the maximum unemployment rate across the states in our\n",
    "sample? In what state did it happen? In what month/year was this\n",
    "achieved?\n",
    "\n",
    "- Hint 1: What Python type (not `dtype`) is returned by a reduction?  \n",
    "- Hint 2: Read documentation for the method `idxmax`.  "
   ]
  },
  {
   "cell_type": "code",
   "execution_count": 39,
   "metadata": {
    "hide-output": false
   },
   "outputs": [
    {
     "name": "stdout",
     "output_type": "stream",
     "text": [
      "The highest unemployment rate was 14.6 in Michigan on 2009-06-01 00:00:00\n"
     ]
    }
   ],
   "source": [
    "# Your code here\n",
    "print(f\"The highest unemployment rate was {unemp.max().max()} in {unemp.max().idxmax()} on {unemp.max(axis=1).idxmax()}\")"
   ]
  },
  {
   "cell_type": "markdown",
   "metadata": {},
   "source": [
    "Classify each state as high or low volatility based on whether the\n",
    "variance of their unemployment is above or below 4."
   ]
  },
  {
   "cell_type": "code",
   "execution_count": 40,
   "metadata": {
    "hide-output": false
   },
   "outputs": [
    {
     "data": {
      "text/plain": [
       "state\n",
       "Arizona       high\n",
       "California    high\n",
       "Florida       high\n",
       "Illinois       low\n",
       "Michigan      high\n",
       "New York       low\n",
       "Texas          low\n",
       "dtype: object"
      ]
     },
     "execution_count": 40,
     "metadata": {},
     "output_type": "execute_result"
    }
   ],
   "source": [
    "def volatile(u):\n",
    "    if (u.var()>4):\n",
    "        return \"high\"\n",
    "    else:\n",
    "        return \"low\"\n",
    "\n",
    "unemp.agg(volatile)"
   ]
  },
  {
   "cell_type": "markdown",
   "metadata": {},
   "source": [
    "## Question 2\n",
    "\n",
    "Imagine that we want to determine whether unemployment was high (> 6.5),\n",
    "medium (4.5 < x <= 6.5), or low (<= 4.5) for each state and each month.\n",
    "\n",
    "Write a Python function that takes a single number as an input and\n",
    "outputs a single string which notes whether that number is high, medium, or low."
   ]
  },
  {
   "cell_type": "code",
   "execution_count": 41,
   "metadata": {
    "hide-output": false
   },
   "outputs": [],
   "source": [
    "# Your code here\n",
    "def unempbin(u):\n",
    "    if u>6.5 :\n",
    "        return(\"high\")\n",
    "    elif u>4.5 :\n",
    "        return(\"medium\")\n",
    "    else : \n",
    "        return(\"low\")    "
   ]
  },
  {
   "cell_type": "markdown",
   "metadata": {},
   "source": [
    "Pass your function to either `apply` or `applymap` and save the\n",
    "result in a new DataFrame called `unemp_bins`."
   ]
  },
  {
   "cell_type": "code",
   "execution_count": 42,
   "metadata": {
    "hide-output": false
   },
   "outputs": [],
   "source": [
    "# Your code here\n",
    "unemp_bins = unemp.applymap(unempbin)"
   ]
  },
  {
   "cell_type": "markdown",
   "metadata": {},
   "source": [
    "## Question 3\n",
    "\n",
    "This exercise has multiple parts:\n",
    "\n",
    "Use another transformation on `unemp_bins` to count how many\n",
    "times each state had each of the three classifications.\n",
    "\n",
    "- Hint 1: Will you need to use `apply` or `applymap` for transformation?  \n",
    "- Hint 2: Try googling “pandas count unique value” or something similar to find the proper transformation.  "
   ]
  },
  {
   "cell_type": "code",
   "execution_count": 43,
   "metadata": {
    "hide-output": false
   },
   "outputs": [
    {
     "data": {
      "text/html": [
       "<div>\n",
       "<style scoped>\n",
       "    .dataframe tbody tr th:only-of-type {\n",
       "        vertical-align: middle;\n",
       "    }\n",
       "\n",
       "    .dataframe tbody tr th {\n",
       "        vertical-align: top;\n",
       "    }\n",
       "\n",
       "    .dataframe thead th {\n",
       "        text-align: right;\n",
       "    }\n",
       "</style>\n",
       "<table border=\"1\" class=\"dataframe\">\n",
       "  <thead>\n",
       "    <tr style=\"text-align: right;\">\n",
       "      <th>state</th>\n",
       "      <th>Arizona</th>\n",
       "      <th>California</th>\n",
       "      <th>Florida</th>\n",
       "      <th>Illinois</th>\n",
       "      <th>Michigan</th>\n",
       "      <th>New York</th>\n",
       "      <th>Texas</th>\n",
       "    </tr>\n",
       "  </thead>\n",
       "  <tbody>\n",
       "    <tr>\n",
       "      <th>low</th>\n",
       "      <td>44</td>\n",
       "      <td>4</td>\n",
       "      <td>69</td>\n",
       "      <td>19</td>\n",
       "      <td>17</td>\n",
       "      <td>22</td>\n",
       "      <td>58</td>\n",
       "    </tr>\n",
       "    <tr>\n",
       "      <th>medium</th>\n",
       "      <td>97</td>\n",
       "      <td>106</td>\n",
       "      <td>79</td>\n",
       "      <td>106</td>\n",
       "      <td>57</td>\n",
       "      <td>129</td>\n",
       "      <td>107</td>\n",
       "    </tr>\n",
       "    <tr>\n",
       "      <th>high</th>\n",
       "      <td>75</td>\n",
       "      <td>106</td>\n",
       "      <td>68</td>\n",
       "      <td>91</td>\n",
       "      <td>142</td>\n",
       "      <td>65</td>\n",
       "      <td>51</td>\n",
       "    </tr>\n",
       "  </tbody>\n",
       "</table>\n",
       "</div>"
      ],
      "text/plain": [
       "state   Arizona  California  Florida  Illinois  Michigan  New York  Texas\n",
       "low          44           4       69        19        17        22     58\n",
       "medium       97         106       79       106        57       129    107\n",
       "high         75         106       68        91       142        65     51"
      ]
     },
     "execution_count": 43,
     "metadata": {},
     "output_type": "execute_result"
    }
   ],
   "source": [
    "# Your code here\n",
    "unemp_bin_counts=unemp_bins.apply(lambda x: x.value_counts())\n",
    "unemp_bin_counts=unemp_bin_counts.iloc[[1,2,0],:] # put in nicer order printing and plotting\n",
    "unemp_bin_counts"
   ]
  },
  {
   "cell_type": "markdown",
   "metadata": {},
   "source": [
    "Construct a horizontal bar chart to detail the occurrences of each level.\n",
    "Use one bar per state and classification for 21 total bars."
   ]
  },
  {
   "cell_type": "code",
   "execution_count": 46,
   "metadata": {
    "hide-output": false
   },
   "outputs": [
    {
     "data": {
      "text/plain": [
       "<matplotlib.axes._subplots.AxesSubplot at 0x7fb420b72760>"
      ]
     },
     "execution_count": 46,
     "metadata": {},
     "output_type": "execute_result"
    },
    {
     "data": {
      "image/png": "[encoded data removed]",
      "text/plain": [
       "<Figure size 432x288 with 1 Axes>"
      ]
     },
     "metadata": {},
     "output_type": "display_data"
    }
   ],
   "source": [
    "unemp_bin_counts.T.plot.barh()"
   ]
  },
  {
   "cell_type": "markdown",
   "metadata": {},
   "source": [
    "## Question 4\n",
    "\n",
    "Repeat Question 3, but count how many states had\n",
    "each classification in each month. Which month had the most states\n",
    "with high unemployment? What about medium and low?\n",
    "\n",
    "Part 1: Write a Python function to classify unemployment levels"
   ]
  },
  {
   "cell_type": "code",
   "execution_count": 13,
   "metadata": {
    "hide-output": false
   },
   "outputs": [],
   "source": [
    "# Your code here\n",
    "# same as Question 3, so won't redefine the function"
   ]
  },
  {
   "cell_type": "markdown",
   "metadata": {},
   "source": [
    "Part 2: Decide whether you should use `.apply` or `.applymap`.\n",
    "\n",
    "Part 3: Pass your function from part 1 to the method you determined in Part 2."
   ]
  },
  {
   "cell_type": "code",
   "execution_count": 14,
   "metadata": {
    "hide-output": false
   },
   "outputs": [],
   "source": [
    "#unemp_bins = unemp #replace this comment with your code!!\n",
    "# Also same as 3, so not redoing"
   ]
  },
  {
   "cell_type": "markdown",
   "metadata": {},
   "source": [
    "Part 4: Count the number of times each state had each classification."
   ]
  },
  {
   "cell_type": "code",
   "execution_count": 15,
   "metadata": {
    "hide-output": false
   },
   "outputs": [
    {
     "data": {
      "text/html": [
       "<div>\n",
       "<style scoped>\n",
       "    .dataframe tbody tr th:only-of-type {\n",
       "        vertical-align: middle;\n",
       "    }\n",
       "\n",
       "    .dataframe tbody tr th {\n",
       "        vertical-align: top;\n",
       "    }\n",
       "\n",
       "    .dataframe thead th {\n",
       "        text-align: right;\n",
       "    }\n",
       "</style>\n",
       "<table border=\"1\" class=\"dataframe\">\n",
       "  <thead>\n",
       "    <tr style=\"text-align: right;\">\n",
       "      <th></th>\n",
       "      <th>low</th>\n",
       "      <th>medium</th>\n",
       "      <th>high</th>\n",
       "    </tr>\n",
       "    <tr>\n",
       "      <th>Date</th>\n",
       "      <th></th>\n",
       "      <th></th>\n",
       "      <th></th>\n",
       "    </tr>\n",
       "  </thead>\n",
       "  <tbody>\n",
       "    <tr>\n",
       "      <th>2000-01-01</th>\n",
       "      <td>4.0</td>\n",
       "      <td>3.0</td>\n",
       "      <td>0.0</td>\n",
       "    </tr>\n",
       "    <tr>\n",
       "      <th>2000-02-01</th>\n",
       "      <td>4.0</td>\n",
       "      <td>3.0</td>\n",
       "      <td>0.0</td>\n",
       "    </tr>\n",
       "    <tr>\n",
       "      <th>2000-03-01</th>\n",
       "      <td>5.0</td>\n",
       "      <td>2.0</td>\n",
       "      <td>0.0</td>\n",
       "    </tr>\n",
       "    <tr>\n",
       "      <th>2000-04-01</th>\n",
       "      <td>5.0</td>\n",
       "      <td>2.0</td>\n",
       "      <td>0.0</td>\n",
       "    </tr>\n",
       "    <tr>\n",
       "      <th>2000-05-01</th>\n",
       "      <td>5.0</td>\n",
       "      <td>2.0</td>\n",
       "      <td>0.0</td>\n",
       "    </tr>\n",
       "    <tr>\n",
       "      <th>...</th>\n",
       "      <td>...</td>\n",
       "      <td>...</td>\n",
       "      <td>...</td>\n",
       "    </tr>\n",
       "    <tr>\n",
       "      <th>2017-08-01</th>\n",
       "      <td>2.0</td>\n",
       "      <td>5.0</td>\n",
       "      <td>0.0</td>\n",
       "    </tr>\n",
       "    <tr>\n",
       "      <th>2017-09-01</th>\n",
       "      <td>3.0</td>\n",
       "      <td>4.0</td>\n",
       "      <td>0.0</td>\n",
       "    </tr>\n",
       "    <tr>\n",
       "      <th>2017-10-01</th>\n",
       "      <td>3.0</td>\n",
       "      <td>4.0</td>\n",
       "      <td>0.0</td>\n",
       "    </tr>\n",
       "    <tr>\n",
       "      <th>2017-11-01</th>\n",
       "      <td>3.0</td>\n",
       "      <td>4.0</td>\n",
       "      <td>0.0</td>\n",
       "    </tr>\n",
       "    <tr>\n",
       "      <th>2017-12-01</th>\n",
       "      <td>3.0</td>\n",
       "      <td>4.0</td>\n",
       "      <td>0.0</td>\n",
       "    </tr>\n",
       "  </tbody>\n",
       "</table>\n",
       "<p>216 rows × 3 columns</p>\n",
       "</div>"
      ],
      "text/plain": [
       "            low  medium  high\n",
       "Date                         \n",
       "2000-01-01  4.0     3.0   0.0\n",
       "2000-02-01  4.0     3.0   0.0\n",
       "2000-03-01  5.0     2.0   0.0\n",
       "2000-04-01  5.0     2.0   0.0\n",
       "2000-05-01  5.0     2.0   0.0\n",
       "...         ...     ...   ...\n",
       "2017-08-01  2.0     5.0   0.0\n",
       "2017-09-01  3.0     4.0   0.0\n",
       "2017-10-01  3.0     4.0   0.0\n",
       "2017-11-01  3.0     4.0   0.0\n",
       "2017-12-01  3.0     4.0   0.0\n",
       "\n",
       "[216 rows x 3 columns]"
      ]
     },
     "execution_count": 15,
     "metadata": {},
     "output_type": "execute_result"
    }
   ],
   "source": [
    "## then make a horizontal bar chart here\n",
    "unemp_bin_counts=unemp_bins.apply(lambda x: x.value_counts(), axis=1)\n",
    "unemp_bin_counts=unemp_bin_counts.iloc[:,[1,2,0]] # put in nicer order printing and plotting\n",
    "unemp_bin_counts=unemp_bin_counts.fillna(0)\n",
    "unemp_bin_counts"
   ]
  },
  {
   "cell_type": "markdown",
   "metadata": {},
   "source": [
    "Part 5: Apply the same transformation from Part 4 to each date instead of to each state."
   ]
  },
  {
   "cell_type": "code",
   "execution_count": 16,
   "metadata": {},
   "outputs": [
    {
     "name": "stdout",
     "output_type": "stream",
     "text": [
      "low       DatetimeIndex(['2000-08-01', '2000-09-01', '20...\n",
      "medium    DatetimeIndex(['2001-09-01', '2001-10-01', '20...\n",
      "high      DatetimeIndex(['2009-04-01', '2009-05-01', '20...\n",
      "dtype: object\n"
     ]
    }
   ],
   "source": [
    "def findmaxindices(x) :\n",
    "    return(x.index[x == x.max()])\n",
    "\n",
    "print(unemp_bin_counts.apply(findmaxindices))"
   ]
  },
  {
   "cell_type": "code",
   "execution_count": 17,
   "metadata": {
    "hide-output": false
   },
   "outputs": [
    {
     "data": {
      "text/plain": [
       "<matplotlib.axes._subplots.AxesSubplot at 0x7fb44917e2e0>"
      ]
     },
     "execution_count": 17,
     "metadata": {},
     "output_type": "execute_result"
    },
    {
     "data": {
      "image/png": "[encoded data removed]",
      "text/plain": [
       "<Figure size 432x288 with 1 Axes>"
      ]
     },
     "metadata": {},
     "output_type": "display_data"
    }
   ],
   "source": [
    "unemp_bin_counts.plot()"
   ]
  },
  {
   "cell_type": "markdown",
   "metadata": {},
   "source": [
    "## Question 5\n",
    "\n",
    "For a single state of your choice, determine the mean\n",
    "unemployment during “Low”, “Medium”, and “High” unemployment times.\n",
    "(recall your `unemp_bins` DataFrame from the exercise above)"
   ]
  },
  {
   "cell_type": "code",
   "execution_count": 29,
   "metadata": {
    "hide-output": false
   },
   "outputs": [
    {
     "data": {
      "text/plain": [
       "low       4.340909\n",
       "medium    5.361240\n",
       "high      8.169231\n",
       "dtype: float64"
      ]
     },
     "execution_count": 29,
     "metadata": {},
     "output_type": "execute_result"
    }
   ],
   "source": [
    "# Your code here\n",
    "vals = ['low','medium','high']\n",
    "def condmean(u,bins):\n",
    "    vals = bins.unique()\n",
    "    m = pd.Series([u[bins==v].mean() for v in vals], index=vals).sort_values()\n",
    "    return(m)\n",
    "        \n",
    "condmean(unemp['New York'],unemp_bins['New York'])\n",
    "    "
   ]
  },
  {
   "cell_type": "markdown",
   "metadata": {},
   "source": [
    "Which states in our sample performs the best during “bad times?” To\n",
    "determine this, compute each state’s mean unemployment in\n",
    "months where the mean unemployment rate is greater than 7."
   ]
  },
  {
   "cell_type": "code",
   "execution_count": 30,
   "metadata": {
    "hide-output": false
   },
   "outputs": [
    {
     "data": {
      "text/plain": [
       "state\n",
       "Arizona        9.007576\n",
       "California    10.151282\n",
       "Florida        9.483333\n",
       "Illinois       9.354286\n",
       "Michigan       9.229565\n",
       "New York       8.265574\n",
       "Texas          7.944118\n",
       "dtype: float64"
      ]
     },
     "execution_count": 30,
     "metadata": {},
     "output_type": "execute_result"
    }
   ],
   "source": [
    "def meanbadtimes(u, bad=7):\n",
    "    return(u[u>=bad].mean())\n",
    "\n",
    "unemp.agg(meanbadtimes)"
   ]
  },
  {
   "cell_type": "code",
   "execution_count": null,
   "metadata": {},
   "outputs": [],
   "source": []
  }
 ],
 "metadata": {
  "date": 1595352473.6473763,
  "download_nb": false,
  "filename": "problem_set_5.rst",
  "filename_with_path": "problem_sets/problem_set_5",
  "kernelspec": {
   "display_name": "Python 3",
   "language": "python",
   "name": "python3"
  },
  "language_info": {
   "codemirror_mode": {
    "name": "ipython",
    "version": 3
   },
   "file_extension": ".py",
   "mimetype": "text/x-python",
   "name": "python",
   "nbconvert_exporter": "python",
   "pygments_lexer": "ipython3",
   "version": "3.8.3"
  },
  "title": "Problem Set 5",
  "widgets": {
   "application/vnd.jupyter.widget-state+json": {
    "state": {},
    "version_major": 2,
    "version_minor": 0
   }
  }
 },
 "nbformat": 4,
 "nbformat_minor": 4
}
